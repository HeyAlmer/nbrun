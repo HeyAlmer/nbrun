{
 "cells": [
  {
   "cell_type": "markdown",
   "metadata": {},
   "source": [
    "# Master Notebook\n",
    "\n",
    "<p class=lead>This notebook executes a [template notebook](example-template-notebook.ipynb) passing different arguments.\n",
    "<p>\n",
    "\n",
    "## Boilerplate\n",
    "\n",
    "The module `nbrun.py` needs to be importable (i.e. placed in the current folder or in the python path):"
   ]
  },
  {
   "cell_type": "code",
   "execution_count": null,
   "metadata": {
    "collapsed": false
   },
   "outputs": [],
   "source": [
    "from nbrun import run_notebook"
   ]
  },
  {
   "cell_type": "markdown",
   "metadata": {
    "collapsed": true
   },
   "source": [
    "## Execute notebooks"
   ]
  },
  {
   "cell_type": "code",
   "execution_count": null,
   "metadata": {
    "collapsed": true
   },
   "outputs": [],
   "source": [
    "nb_name = 'example-template-notebook.ipynb'"
   ]
  },
  {
   "cell_type": "code",
   "execution_count": null,
   "metadata": {
    "collapsed": false
   },
   "outputs": [],
   "source": [
    "for data_id in (0, 1, 2):\n",
    "    for analysis_type in ('a', 'b', 'c'):\n",
    "        nb_kwargs = {'data_id': data_id, 'analysis_type': analysis_type}\n",
    "        run_notebook(nb_name, nb_suffix='-out_%d_%s' % (data_id, analysis_type), nb_kwargs=nb_kwargs)"
   ]
  },
  {
   "cell_type": "markdown",
   "metadata": {},
   "source": [
    "# Howto Avoid Broken Links\n",
    "\n",
    "The notebook links appearing when calling `run_notebook` will work only \n",
    "under the following conditions:\n",
    "\n",
    "1. the current working directory in python is where the master notebook is,\n",
    "\n",
    "2. path arguments for template notebook and output folder are:\n",
    "    \n",
    "    - in a subfolder of where `jupyter notebook` was started,\n",
    "    - **relative** paths, starting from the master-notebook folder."
   ]
  }
 ],
 "metadata": {
  "kernelspec": {
   "display_name": "Python 3",
   "language": "python",
   "name": "python3"
  },
  "language_info": {
   "codemirror_mode": {
    "name": "ipython",
    "version": 3
   },
   "file_extension": ".py",
   "mimetype": "text/x-python",
   "name": "python",
   "nbconvert_exporter": "python",
   "pygments_lexer": "ipython3",
   "version": "3.5.2"
  }
 },
 "nbformat": 4,
 "nbformat_minor": 0
}
