{
 "cells": [
  {
   "cell_type": "markdown",
   "metadata": {},
   "source": [
    "# Master Notebook\n",
    "\n",
    "<p class=lead>This notebook executes a [template notebook](example-template-notebook.ipynb) passing different arguments.\n",
    "<p>\n",
    "\n",
    "## Boilerplate\n",
    "\n",
    "The module `nbrun.py` needs to be importable (i.e. placed in the current folder or in the python path):"
   ]
  },
  {
   "cell_type": "code",
   "execution_count": null,
   "metadata": {
    "collapsed": false
   },
   "outputs": [],
   "source": [
    "from nbrun import run_notebook"
   ]
  },
  {
   "cell_type": "markdown",
   "metadata": {
    "collapsed": true
   },
   "source": [
    "## Execute notebooks"
   ]
  },
  {
   "cell_type": "code",
   "execution_count": null,
   "metadata": {
    "collapsed": true
   },
   "outputs": [],
   "source": [
    "nb_name = 'example-template-notebook.ipynb'"
   ]
  },
  {
   "cell_type": "code",
   "execution_count": null,
   "metadata": {
    "collapsed": false
   },
   "outputs": [],
   "source": [
    "for data_id in (0, 1, 2):\n",
    "    for analysis_type in ('a', 'b', 'c'):\n",
    "        nb_kwargs = {'data_id': data_id, 'analysis_type': analysis_type}\n",
    "        run_notebook(nb_name, nb_suffix='-out_%d_%s' % (data_id, analysis_type), nb_kwargs=nb_kwargs)"
   ]
  },
  {
   "cell_type": "markdown",
   "metadata": {},
   "source": [
    "# How to Avoid Breaking Links\n",
    "\n",
    "Running `run_notebook()` generates and displays links to the\n",
    "template and output notebooks. Nbrun can generate broken links\n",
    "if one of the following conditions are not true.\n",
    "\n",
    "First, the template and output notebooks need to be\n",
    "accessible to the jupyter notebook, so they need to be in a subfolder of the\n",
    "jupyter notebook startup foder.\n",
    "\n",
    "Second, when calling `notebook_run`, the python working directory needs to be the same \n",
    "as the current notebook (which is the default for new kernels). \n",
    "If the user doesn't change dir (using `cd` or `os.chdir`) \n",
    "before calling `notebook_run`, the links are correctly generated.\n",
    "If the user needs to change dir, it should change it back to the \n",
    "current notebook folder before calling `run_notebook`, otherwise\n",
    "the links will be broken."
   ]
  }
 ],
 "metadata": {
  "kernelspec": {
   "display_name": "Python 3",
   "language": "python",
   "name": "python3"
  },
  "language_info": {
   "codemirror_mode": {
    "name": "ipython",
    "version": 3
   },
   "file_extension": ".py",
   "mimetype": "text/x-python",
   "name": "python",
   "nbconvert_exporter": "python",
   "pygments_lexer": "ipython3",
   "version": "3.5.2"
  }
 },
 "nbformat": 4,
 "nbformat_minor": 0
}
